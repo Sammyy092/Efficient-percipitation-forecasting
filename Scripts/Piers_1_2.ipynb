{
  "nbformat": 4,
  "nbformat_minor": 0,
  "metadata": {
    "colab": {
      "name": "Piers 1_2.ipynb",
      "provenance": [],
      "collapsed_sections": []
    },
    "kernelspec": {
      "name": "python3",
      "display_name": "Python 3"
    },
    "language_info": {
      "name": "python"
    }
  },
  "cells": [
    {
      "cell_type": "code",
      "metadata": {
        "id": "-3CF920cWQJ_"
      },
      "source": [
        "# Importing necessary classes \n",
        "import pandas as pd\n",
        "import matplotlib.pyplot as plt\n",
        "from scipy.stats import boxcox\n",
        "from scipy.special import inv_boxcox\n",
        "from sklearn.preprocessing import MinMaxScaler, StandardScaler\n",
        "import numpy as np\n",
        "from tensorflow.keras.models import Sequential\n",
        "from tensorflow.keras.layers import Dense, LSTM, Dropout\n",
        "import tensorflow as tf\n",
        "import seaborn as sn"
      ],
      "execution_count": null,
      "outputs": []
    },
    {
      "cell_type": "code",
      "metadata": {
        "colab": {
          "base_uri": "https://localhost:8080/",
          "height": 171
        },
        "id": "2XU6YL93W7y9",
        "outputId": "83890ee2-23bb-4dbd-e47a-27ee631abff6"
      },
      "source": [
        "# Loading the dataset and shaping it into a time series dataset\n",
        "rainfall= pd.read_csv('/content/2619492.csv')\n",
        "rainfall[[\"DATE\"]] = rainfall[[\"DATE\"]].apply(pd.to_datetime)\n",
        "rainfall = rainfall.set_index('DATE')\n",
        "rainfall.head(3)"
      ],
      "execution_count": null,
      "outputs": [
        {
          "output_type": "execute_result",
          "data": {
            "text/html": [
              "<div>\n",
              "<style scoped>\n",
              "    .dataframe tbody tr th:only-of-type {\n",
              "        vertical-align: middle;\n",
              "    }\n",
              "\n",
              "    .dataframe tbody tr th {\n",
              "        vertical-align: top;\n",
              "    }\n",
              "\n",
              "    .dataframe thead th {\n",
              "        text-align: right;\n",
              "    }\n",
              "</style>\n",
              "<table border=\"1\" class=\"dataframe\">\n",
              "  <thead>\n",
              "    <tr style=\"text-align: right;\">\n",
              "      <th></th>\n",
              "      <th>PRCP</th>\n",
              "    </tr>\n",
              "    <tr>\n",
              "      <th>DATE</th>\n",
              "      <th></th>\n",
              "    </tr>\n",
              "  </thead>\n",
              "  <tbody>\n",
              "    <tr>\n",
              "      <th>1990-01-01</th>\n",
              "      <td>0.0</td>\n",
              "    </tr>\n",
              "    <tr>\n",
              "      <th>1990-02-01</th>\n",
              "      <td>0.0</td>\n",
              "    </tr>\n",
              "    <tr>\n",
              "      <th>1990-03-01</th>\n",
              "      <td>0.0</td>\n",
              "    </tr>\n",
              "  </tbody>\n",
              "</table>\n",
              "</div>"
            ],
            "text/plain": [
              "            PRCP\n",
              "DATE            \n",
              "1990-01-01   0.0\n",
              "1990-02-01   0.0\n",
              "1990-03-01   0.0"
            ]
          },
          "metadata": {
            "tags": []
          },
          "execution_count": 6
        }
      ]
    },
    {
      "cell_type": "code",
      "metadata": {
        "colab": {
          "base_uri": "https://localhost:8080/",
          "height": 383
        },
        "id": "pYi8XAHuXC-F",
        "outputId": "3c62c024-26cb-4dc0-ca77-13b488e91f46"
      },
      "source": [
        "#Plotting the histogram of dataset\n",
        "plt.figure(figsize=(11, 6))\n",
        "plt.rc('font', size=20)         # controls default text sizes\n",
        "plt.rc('axes', titlesize=22)    # fontsize of the axes title\n",
        "plt.rc('axes', labelsize=22)    # fontsize of the x and y labels\n",
        "plt.rc('xtick', labelsize=20)   # fontsize of the tick labels\n",
        "plt.rc('ytick', labelsize=20)  # fontsize of the tick labels\n",
        "plt.rc('legend', fontsize=22)   # legend fontsize\n",
        "plt.rc('figure', titlesize=23)  # fontsize of the figure title\n",
        "series = rainfall.PRCP\n",
        "series.hist(bins=50)\n",
        "plt.show()"
      ],
      "execution_count": null,
      "outputs": [
        {
          "output_type": "display_data",
          "data": {
            "image/png": "[encoded data removed]",
            "text/plain": [
              "<Figure size 792x432 with 1 Axes>"
            ]
          },
          "metadata": {
            "tags": [],
            "needs_background": "light"
          }
        }
      ]
    },
    {
      "cell_type": "code",
      "metadata": {
        "id": "EayZ0XT0X7kt"
      },
      "source": [
        "# Box-Cox Transformation Function\n",
        "def boxcox1p(data):\n",
        "  p1data= data+1\n",
        "  bcdata, bclambda = boxcox(p1data)\n",
        "  return bcdata, bclambda"
      ],
      "execution_count": null,
      "outputs": []
    },
    {
      "cell_type": "code",
      "metadata": {
        "id": "TN7zZq-MYEC_"
      },
      "source": [
        "# Inverse Box-Cox transformation Function\n",
        "def inv_boxcox1p(bcdata, bclambda):\n",
        "  data=inv_boxcox(bcdata, bclambda)-1\n",
        "  return data"
      ],
      "execution_count": null,
      "outputs": []
    },
    {
      "cell_type": "code",
      "metadata": {
        "colab": {
          "base_uri": "https://localhost:8080/",
          "height": 484
        },
        "id": "xg_TTn7mXenz",
        "outputId": "0a39aba3-86a0-4bd7-e824-6b7b2f91162c"
      },
      "source": [
        "#Calling the Box-Cox transformation function to normalize the data distribution\n",
        "inv_data, lam_value = boxcox1p(rainfall.PRCP) \n",
        "plt.hist(inv_data, bins=100)\n",
        "plt.show()"
      ],
      "execution_count": null,
      "outputs": [
        {
          "output_type": "display_data",
          "data": {
            "image/png": "[encoded data removed]",
            "text/plain": [
              "<Figure size 1224x576 with 1 Axes>"
            ]
          },
          "metadata": {
            "tags": []
          }
        }
      ]
    },
    {
      "cell_type": "code",
      "metadata": {
        "id": "8mGcqabaY0wd"
      },
      "source": [
        "#Scaling the data for better results \n",
        "scaler= MinMaxScaler(feature_range=(0,1))\n",
        "data = inv_data.reshape(-1,1)\n",
        "scaler.fit(data)\n",
        "rain_data = scaler.transform(rain_data)[:,0]"
      ],
      "execution_count": null,
      "outputs": []
    },
    {
      "cell_type": "code",
      "metadata": {
        "id": "HgYKaYGfZGuM"
      },
      "source": [
        "#Function for making windowed dataset\n",
        "from numpy import array\n",
        "def split_sequences(series, window):\n",
        "  x, y= list(), list()\n",
        "  for i in range(len(series)):\n",
        "    end= i+ window\n",
        "    if end>len(series)-1:\n",
        "      break\n",
        "    seq_x, seq_y= series[i:end], series[end]\n",
        "    x.append(seq_x)\n",
        "    y.append(seq_y)\n",
        "  return array(x), array(y)"
      ],
      "execution_count": null,
      "outputs": []
    },
    {
      "cell_type": "code",
      "metadata": {
        "id": "EncfGZ__ZcHQ"
      },
      "source": [
        "#Dividing the dataset into train and test subsets\n",
        "train_data = new_Data[0:9058]\n",
        "valid_data = new_Data[9058:]\n",
        "window_size = 70\n",
        "x_train, y_train = split_sequences(train, window_size)\n",
        "x_test, y_test = split_sequences(test, window_size)"
      ],
      "execution_count": null,
      "outputs": []
    },
    {
      "cell_type": "code",
      "metadata": {
        "id": "psp3Zx8UZr9I"
      },
      "source": [
        "#Reshaping the test and test input data for LSTM model\n",
        "x_train = np.reshape(x_train, (x_train.shape[0], x_train.shape[1], 1))\n",
        "x_test = np.reshape(x_test, (x_test.shape[0], x_test.shape[1], 1))"
      ],
      "execution_count": null,
      "outputs": []
    },
    {
      "cell_type": "code",
      "metadata": {
        "id": "JVL-y84eZ4RM"
      },
      "source": [
        "# Building the LSTM model\n",
        "model = Sequential()\n",
        "model.add(LSTM(32, input_shape=(window_size, 1), return_sequences=True))\n",
        "model.add(Dropout(0.5))\n",
        "model.add(LSTM(32,))\n",
        "model.add(Dropout(0.5))\n",
        "model.add(Dense(16, activation='relu'))\n",
        "model.add(Dense(1, activation='relu'))"
      ],
      "execution_count": null,
      "outputs": []
    },
    {
      "cell_type": "code",
      "metadata": {
        "colab": {
          "base_uri": "https://localhost:8080/"
        },
        "id": "sPNFrk3EXspT",
        "outputId": "d23e2c25-36b3-43e1-a718-c25234656b9d"
      },
      "source": [
        "lr_schedule = tf.keras.callbacks.LearningRateScheduler(\n",
        "    lambda epoch: 1e-7 * 10**(epoch / 40))\n",
        "optimizer = tf.keras.optimizers.SGD(learning_rate=1e-7, momentum=0.9)\n",
        "model.compile(loss=tf.keras.losses.Huber(),\n",
        "              optimizer=optimizer,\n",
        "              metrics=[\"mean_squared_error\"])\n",
        "print(model.summary())"
      ],
      "execution_count": null,
      "outputs": [
        {
          "output_type": "stream",
          "text": [
            "Model: \"sequential_18\"\n",
            "_________________________________________________________________\n",
            "Layer (type)                 Output Shape              Param #   \n",
            "=================================================================\n",
            "lstm_36 (LSTM)               (None, 70, 32)            4352      \n",
            "_________________________________________________________________\n",
            "dropout_36 (Dropout)         (None, 70, 32)            0         \n",
            "_________________________________________________________________\n",
            "lstm_37 (LSTM)               (None, 32)                8320      \n",
            "_________________________________________________________________\n",
            "dropout_37 (Dropout)         (None, 32)                0         \n",
            "_________________________________________________________________\n",
            "dense_36 (Dense)             (None, 16)                528       \n",
            "_________________________________________________________________\n",
            "dense_37 (Dense)             (None, 1)                 17        \n",
            "=================================================================\n",
            "Total params: 13,217\n",
            "Trainable params: 13,217\n",
            "Non-trainable params: 0\n",
            "_________________________________________________________________\n",
            "None\n"
          ],
          "name": "stdout"
        }
      ]
    },
    {
      "cell_type": "code",
      "metadata": {
        "colab": {
          "base_uri": "https://localhost:8080/"
        },
        "id": "jsGPOCNemmoY",
        "outputId": "fcc1bb43-a65a-41cb-dc9d-003ee7a30bf7"
      },
      "source": [
        "# LSTM model training phase \n",
        "print(\"Starting to fit\")\n",
        "history = model.fit(x_train, y_train, epochs=100, batch_size=60, verbose=1, validation_data=(x_train, y_train), callbacks=[lr_schedule])"
      ],
      "execution_count": null,
      "outputs": [
        {
          "output_type": "stream",
          "text": [
            "Starting to fit\n",
            "Epoch 1/100\n",
            "150/150 [==============================] - 14s 69ms/step - loss: 0.1059 - mean_squared_error: 0.2118 - val_loss: 0.1141 - val_mean_squared_error: 0.2282\n",
            "Epoch 2/100\n",
            "150/150 [==============================] - 10s 64ms/step - loss: 0.1059 - mean_squared_error: 0.2118 - val_loss: 0.1140 - val_mean_squared_error: 0.2281\n",
            "Epoch 3/100\n",
            "150/150 [==============================] - 10s 64ms/step - loss: 0.1061 - mean_squared_error: 0.2121 - val_loss: 0.1140 - val_mean_squared_error: 0.2280\n",
            "Epoch 4/100\n",
            "150/150 [==============================] - 10s 64ms/step - loss: 0.1058 - mean_squared_error: 0.2117 - val_loss: 0.1140 - val_mean_squared_error: 0.2279\n",
            "Epoch 5/100\n",
            "150/150 [==============================] - 10s 64ms/step - loss: 0.1059 - mean_squared_error: 0.2119 - val_loss: 0.1139 - val_mean_squared_error: 0.2278\n",
            "Epoch 6/100\n",
            "150/150 [==============================] - 9s 63ms/step - loss: 0.1058 - mean_squared_error: 0.2116 - val_loss: 0.1139 - val_mean_squared_error: 0.2277\n",
            "Epoch 7/100\n",
            "150/150 [==============================] - 10s 64ms/step - loss: 0.1057 - mean_squared_error: 0.2113 - val_loss: 0.1138 - val_mean_squared_error: 0.2276\n",
            "Epoch 8/100\n",
            "150/150 [==============================] - 10s 65ms/step - loss: 0.1057 - mean_squared_error: 0.2114 - val_loss: 0.1138 - val_mean_squared_error: 0.2275\n",
            "Epoch 9/100\n",
            "150/150 [==============================] - 10s 65ms/step - loss: 0.1056 - mean_squared_error: 0.2112 - val_loss: 0.1137 - val_mean_squared_error: 0.2274\n",
            "Epoch 10/100\n",
            "150/150 [==============================] - 10s 65ms/step - loss: 0.1055 - mean_squared_error: 0.2110 - val_loss: 0.1136 - val_mean_squared_error: 0.2273\n",
            "Epoch 11/100\n",
            "150/150 [==============================] - 10s 65ms/step - loss: 0.1056 - mean_squared_error: 0.2112 - val_loss: 0.1136 - val_mean_squared_error: 0.2271\n",
            "Epoch 12/100\n",
            "150/150 [==============================] - 10s 64ms/step - loss: 0.1057 - mean_squared_error: 0.2115 - val_loss: 0.1135 - val_mean_squared_error: 0.2270\n",
            "Epoch 13/100\n",
            "150/150 [==============================] - 10s 65ms/step - loss: 0.1055 - mean_squared_error: 0.2110 - val_loss: 0.1134 - val_mean_squared_error: 0.2269\n",
            "Epoch 14/100\n",
            "150/150 [==============================] - 10s 65ms/step - loss: 0.1055 - mean_squared_error: 0.2109 - val_loss: 0.1133 - val_mean_squared_error: 0.2267\n",
            "Epoch 15/100\n",
            "150/150 [==============================] - 10s 64ms/step - loss: 0.1054 - mean_squared_error: 0.2108 - val_loss: 0.1133 - val_mean_squared_error: 0.2265\n",
            "Epoch 16/100\n",
            "150/150 [==============================] - 10s 64ms/step - loss: 0.1054 - mean_squared_error: 0.2108 - val_loss: 0.1132 - val_mean_squared_error: 0.2264\n",
            "Epoch 17/100\n",
            "150/150 [==============================] - 10s 65ms/step - loss: 0.1052 - mean_squared_error: 0.2103 - val_loss: 0.1131 - val_mean_squared_error: 0.2262\n",
            "Epoch 18/100\n",
            "150/150 [==============================] - 10s 65ms/step - loss: 0.1052 - mean_squared_error: 0.2104 - val_loss: 0.1130 - val_mean_squared_error: 0.2260\n",
            "Epoch 19/100\n",
            "150/150 [==============================] - 10s 65ms/step - loss: 0.1051 - mean_squared_error: 0.2103 - val_loss: 0.1129 - val_mean_squared_error: 0.2258\n",
            "Epoch 20/100\n",
            "150/150 [==============================] - 10s 65ms/step - loss: 0.1050 - mean_squared_error: 0.2100 - val_loss: 0.1128 - val_mean_squared_error: 0.2255\n",
            "Epoch 21/100\n",
            "150/150 [==============================] - 10s 65ms/step - loss: 0.1049 - mean_squared_error: 0.2098 - val_loss: 0.1127 - val_mean_squared_error: 0.2253\n",
            "Epoch 22/100\n",
            "150/150 [==============================] - 10s 65ms/step - loss: 0.1051 - mean_squared_error: 0.2102 - val_loss: 0.1125 - val_mean_squared_error: 0.2251\n",
            "Epoch 23/100\n",
            "150/150 [==============================] - 10s 65ms/step - loss: 0.1046 - mean_squared_error: 0.2093 - val_loss: 0.1124 - val_mean_squared_error: 0.2248\n",
            "Epoch 24/100\n",
            "150/150 [==============================] - 10s 64ms/step - loss: 0.1046 - mean_squared_error: 0.2092 - val_loss: 0.1123 - val_mean_squared_error: 0.2245\n",
            "Epoch 25/100\n",
            "150/150 [==============================] - 10s 65ms/step - loss: 0.1050 - mean_squared_error: 0.2100 - val_loss: 0.1121 - val_mean_squared_error: 0.2242\n",
            "Epoch 26/100\n",
            "150/150 [==============================] - 10s 65ms/step - loss: 0.1046 - mean_squared_error: 0.2092 - val_loss: 0.1120 - val_mean_squared_error: 0.2239\n",
            "Epoch 27/100\n",
            "150/150 [==============================] - 10s 65ms/step - loss: 0.1043 - mean_squared_error: 0.2087 - val_loss: 0.1118 - val_mean_squared_error: 0.2236\n",
            "Epoch 28/100\n",
            "150/150 [==============================] - 10s 65ms/step - loss: 0.1043 - mean_squared_error: 0.2085 - val_loss: 0.1116 - val_mean_squared_error: 0.2232\n",
            "Epoch 29/100\n",
            "150/150 [==============================] - 10s 65ms/step - loss: 0.1041 - mean_squared_error: 0.2081 - val_loss: 0.1114 - val_mean_squared_error: 0.2229\n",
            "Epoch 30/100\n",
            "150/150 [==============================] - 10s 65ms/step - loss: 0.1040 - mean_squared_error: 0.2080 - val_loss: 0.1112 - val_mean_squared_error: 0.2225\n",
            "Epoch 31/100\n",
            "150/150 [==============================] - 10s 64ms/step - loss: 0.1041 - mean_squared_error: 0.2081 - val_loss: 0.1110 - val_mean_squared_error: 0.2221\n",
            "Epoch 32/100\n",
            "150/150 [==============================] - 10s 64ms/step - loss: 0.1037 - mean_squared_error: 0.2074 - val_loss: 0.1108 - val_mean_squared_error: 0.2216\n",
            "Epoch 33/100\n",
            "150/150 [==============================] - 10s 64ms/step - loss: 0.1037 - mean_squared_error: 0.2074 - val_loss: 0.1106 - val_mean_squared_error: 0.2212\n",
            "Epoch 34/100\n",
            "150/150 [==============================] - 10s 65ms/step - loss: 0.1032 - mean_squared_error: 0.2065 - val_loss: 0.1103 - val_mean_squared_error: 0.2207\n",
            "Epoch 35/100\n",
            "150/150 [==============================] - 10s 64ms/step - loss: 0.1032 - mean_squared_error: 0.2065 - val_loss: 0.1101 - val_mean_squared_error: 0.2202\n",
            "Epoch 36/100\n",
            "150/150 [==============================] - 10s 65ms/step - loss: 0.1029 - mean_squared_error: 0.2057 - val_loss: 0.1098 - val_mean_squared_error: 0.2197\n",
            "Epoch 37/100\n",
            "150/150 [==============================] - 10s 65ms/step - loss: 0.1029 - mean_squared_error: 0.2057 - val_loss: 0.1095 - val_mean_squared_error: 0.2191\n",
            "Epoch 38/100\n",
            "150/150 [==============================] - 10s 64ms/step - loss: 0.1025 - mean_squared_error: 0.2050 - val_loss: 0.1092 - val_mean_squared_error: 0.2185\n",
            "Epoch 39/100\n",
            "150/150 [==============================] - 10s 65ms/step - loss: 0.1023 - mean_squared_error: 0.2045 - val_loss: 0.1089 - val_mean_squared_error: 0.2179\n",
            "Epoch 40/100\n",
            "150/150 [==============================] - 10s 65ms/step - loss: 0.1023 - mean_squared_error: 0.2046 - val_loss: 0.1086 - val_mean_squared_error: 0.2172\n",
            "Epoch 41/100\n",
            "150/150 [==============================] - 10s 65ms/step - loss: 0.1017 - mean_squared_error: 0.2034 - val_loss: 0.1083 - val_mean_squared_error: 0.2165\n",
            "Epoch 42/100\n",
            "150/150 [==============================] - 10s 65ms/step - loss: 0.1013 - mean_squared_error: 0.2026 - val_loss: 0.1079 - val_mean_squared_error: 0.2158\n",
            "Epoch 43/100\n",
            "150/150 [==============================] - 10s 65ms/step - loss: 0.1011 - mean_squared_error: 0.2022 - val_loss: 0.1075 - val_mean_squared_error: 0.2151\n",
            "Epoch 44/100\n",
            "150/150 [==============================] - 10s 65ms/step - loss: 0.1006 - mean_squared_error: 0.2013 - val_loss: 0.1071 - val_mean_squared_error: 0.2143\n",
            "Epoch 45/100\n",
            "150/150 [==============================] - 10s 65ms/step - loss: 0.1007 - mean_squared_error: 0.2014 - val_loss: 0.1067 - val_mean_squared_error: 0.2134\n",
            "Epoch 46/100\n",
            "150/150 [==============================] - 10s 65ms/step - loss: 0.0999 - mean_squared_error: 0.1997 - val_loss: 0.1063 - val_mean_squared_error: 0.2126\n",
            "Epoch 47/100\n",
            "150/150 [==============================] - 10s 65ms/step - loss: 0.0998 - mean_squared_error: 0.1996 - val_loss: 0.1059 - val_mean_squared_error: 0.2117\n",
            "Epoch 48/100\n",
            "150/150 [==============================] - 10s 66ms/step - loss: 0.0992 - mean_squared_error: 0.1984 - val_loss: 0.1054 - val_mean_squared_error: 0.2108\n",
            "Epoch 49/100\n",
            "150/150 [==============================] - 10s 65ms/step - loss: 0.0992 - mean_squared_error: 0.1984 - val_loss: 0.1049 - val_mean_squared_error: 0.2098\n",
            "Epoch 50/100\n",
            "150/150 [==============================] - 10s 65ms/step - loss: 0.0983 - mean_squared_error: 0.1967 - val_loss: 0.1044 - val_mean_squared_error: 0.2089\n",
            "Epoch 51/100\n",
            "150/150 [==============================] - 10s 66ms/step - loss: 0.0983 - mean_squared_error: 0.1965 - val_loss: 0.1039 - val_mean_squared_error: 0.2078\n",
            "Epoch 52/100\n",
            "150/150 [==============================] - 10s 66ms/step - loss: 0.0978 - mean_squared_error: 0.1956 - val_loss: 0.1034 - val_mean_squared_error: 0.2067\n",
            "Epoch 53/100\n",
            "150/150 [==============================] - 10s 66ms/step - loss: 0.0968 - mean_squared_error: 0.1937 - val_loss: 0.1028 - val_mean_squared_error: 0.2056\n",
            "Epoch 54/100\n",
            "150/150 [==============================] - 10s 64ms/step - loss: 0.0965 - mean_squared_error: 0.1930 - val_loss: 0.1022 - val_mean_squared_error: 0.2044\n",
            "Epoch 55/100\n",
            "150/150 [==============================] - 10s 66ms/step - loss: 0.0958 - mean_squared_error: 0.1916 - val_loss: 0.1016 - val_mean_squared_error: 0.2032\n",
            "Epoch 56/100\n",
            "150/150 [==============================] - 10s 66ms/step - loss: 0.0954 - mean_squared_error: 0.1907 - val_loss: 0.1010 - val_mean_squared_error: 0.2020\n",
            "Epoch 57/100\n",
            "150/150 [==============================] - 10s 67ms/step - loss: 0.0951 - mean_squared_error: 0.1903 - val_loss: 0.1003 - val_mean_squared_error: 0.2007\n",
            "Epoch 58/100\n",
            "150/150 [==============================] - 10s 64ms/step - loss: 0.0938 - mean_squared_error: 0.1877 - val_loss: 0.0997 - val_mean_squared_error: 0.1993\n",
            "Epoch 59/100\n",
            "150/150 [==============================] - 10s 65ms/step - loss: 0.0936 - mean_squared_error: 0.1872 - val_loss: 0.0990 - val_mean_squared_error: 0.1979\n",
            "Epoch 60/100\n",
            "150/150 [==============================] - 10s 65ms/step - loss: 0.0931 - mean_squared_error: 0.1862 - val_loss: 0.0983 - val_mean_squared_error: 0.1965\n",
            "Epoch 61/100\n",
            "150/150 [==============================] - 10s 65ms/step - loss: 0.0925 - mean_squared_error: 0.1850 - val_loss: 0.0975 - val_mean_squared_error: 0.1951\n",
            "Epoch 62/100\n",
            "150/150 [==============================] - 10s 66ms/step - loss: 0.0917 - mean_squared_error: 0.1834 - val_loss: 0.0968 - val_mean_squared_error: 0.1936\n",
            "Epoch 63/100\n",
            "150/150 [==============================] - 10s 66ms/step - loss: 0.0908 - mean_squared_error: 0.1817 - val_loss: 0.0960 - val_mean_squared_error: 0.1921\n",
            "Epoch 64/100\n",
            "150/150 [==============================] - 10s 66ms/step - loss: 0.0905 - mean_squared_error: 0.1811 - val_loss: 0.0953 - val_mean_squared_error: 0.1905\n",
            "Epoch 65/100\n",
            "150/150 [==============================] - 10s 66ms/step - loss: 0.0900 - mean_squared_error: 0.1799 - val_loss: 0.0945 - val_mean_squared_error: 0.1889\n",
            "Epoch 66/100\n",
            "150/150 [==============================] - 10s 66ms/step - loss: 0.0890 - mean_squared_error: 0.1779 - val_loss: 0.0937 - val_mean_squared_error: 0.1873\n",
            "Epoch 67/100\n",
            "150/150 [==============================] - 10s 66ms/step - loss: 0.0883 - mean_squared_error: 0.1767 - val_loss: 0.0929 - val_mean_squared_error: 0.1857\n",
            "Epoch 68/100\n",
            "150/150 [==============================] - 10s 66ms/step - loss: 0.0874 - mean_squared_error: 0.1748 - val_loss: 0.0921 - val_mean_squared_error: 0.1841\n",
            "Epoch 69/100\n",
            "150/150 [==============================] - 10s 66ms/step - loss: 0.0869 - mean_squared_error: 0.1738 - val_loss: 0.0913 - val_mean_squared_error: 0.1825\n",
            "Epoch 70/100\n",
            "150/150 [==============================] - 10s 66ms/step - loss: 0.0859 - mean_squared_error: 0.1718 - val_loss: 0.0904 - val_mean_squared_error: 0.1809\n",
            "Epoch 71/100\n",
            "150/150 [==============================] - 10s 66ms/step - loss: 0.0853 - mean_squared_error: 0.1706 - val_loss: 0.0896 - val_mean_squared_error: 0.1793\n",
            "Epoch 72/100\n",
            "150/150 [==============================] - 10s 66ms/step - loss: 0.0849 - mean_squared_error: 0.1699 - val_loss: 0.0888 - val_mean_squared_error: 0.1777\n",
            "Epoch 73/100\n",
            "150/150 [==============================] - 10s 66ms/step - loss: 0.0841 - mean_squared_error: 0.1681 - val_loss: 0.0880 - val_mean_squared_error: 0.1761\n",
            "Epoch 74/100\n",
            "150/150 [==============================] - 10s 66ms/step - loss: 0.0833 - mean_squared_error: 0.1666 - val_loss: 0.0873 - val_mean_squared_error: 0.1745\n",
            "Epoch 75/100\n",
            "150/150 [==============================] - 10s 66ms/step - loss: 0.0828 - mean_squared_error: 0.1657 - val_loss: 0.0865 - val_mean_squared_error: 0.1730\n",
            "Epoch 76/100\n",
            "150/150 [==============================] - 10s 66ms/step - loss: 0.0822 - mean_squared_error: 0.1645 - val_loss: 0.0858 - val_mean_squared_error: 0.1715\n",
            "Epoch 77/100\n",
            "150/150 [==============================] - 10s 66ms/step - loss: 0.0817 - mean_squared_error: 0.1635 - val_loss: 0.0851 - val_mean_squared_error: 0.1701\n",
            "Epoch 78/100\n",
            "150/150 [==============================] - 10s 66ms/step - loss: 0.0809 - mean_squared_error: 0.1617 - val_loss: 0.0844 - val_mean_squared_error: 0.1687\n",
            "Epoch 79/100\n",
            "150/150 [==============================] - 10s 66ms/step - loss: 0.0801 - mean_squared_error: 0.1603 - val_loss: 0.0837 - val_mean_squared_error: 0.1674\n",
            "Epoch 80/100\n",
            "150/150 [==============================] - 10s 66ms/step - loss: 0.0800 - mean_squared_error: 0.1600 - val_loss: 0.0831 - val_mean_squared_error: 0.1661\n",
            "Epoch 81/100\n",
            "150/150 [==============================] - 10s 66ms/step - loss: 0.0789 - mean_squared_error: 0.1579 - val_loss: 0.0824 - val_mean_squared_error: 0.1649\n",
            "Epoch 82/100\n",
            "150/150 [==============================] - 10s 65ms/step - loss: 0.0788 - mean_squared_error: 0.1576 - val_loss: 0.0819 - val_mean_squared_error: 0.1637\n",
            "Epoch 83/100\n",
            "150/150 [==============================] - 10s 66ms/step - loss: 0.0781 - mean_squared_error: 0.1562 - val_loss: 0.0813 - val_mean_squared_error: 0.1626\n",
            "Epoch 84/100\n",
            "150/150 [==============================] - 10s 66ms/step - loss: 0.0781 - mean_squared_error: 0.1563 - val_loss: 0.0808 - val_mean_squared_error: 0.1617\n",
            "Epoch 85/100\n",
            "150/150 [==============================] - 10s 66ms/step - loss: 0.0777 - mean_squared_error: 0.1553 - val_loss: 0.0804 - val_mean_squared_error: 0.1608\n",
            "Epoch 86/100\n",
            "150/150 [==============================] - 10s 66ms/step - loss: 0.0771 - mean_squared_error: 0.1543 - val_loss: 0.0800 - val_mean_squared_error: 0.1599\n",
            "Epoch 87/100\n",
            "150/150 [==============================] - 10s 67ms/step - loss: 0.0767 - mean_squared_error: 0.1534 - val_loss: 0.0796 - val_mean_squared_error: 0.1591\n",
            "Epoch 88/100\n",
            "150/150 [==============================] - 10s 66ms/step - loss: 0.0766 - mean_squared_error: 0.1532 - val_loss: 0.0792 - val_mean_squared_error: 0.1584\n",
            "Epoch 89/100\n",
            "150/150 [==============================] - 10s 66ms/step - loss: 0.0766 - mean_squared_error: 0.1532 - val_loss: 0.0789 - val_mean_squared_error: 0.1578\n",
            "Epoch 90/100\n",
            "150/150 [==============================] - 10s 66ms/step - loss: 0.0762 - mean_squared_error: 0.1525 - val_loss: 0.0786 - val_mean_squared_error: 0.1573\n",
            "Epoch 91/100\n",
            "150/150 [==============================] - 10s 66ms/step - loss: 0.0761 - mean_squared_error: 0.1523 - val_loss: 0.0784 - val_mean_squared_error: 0.1568\n",
            "Epoch 92/100\n",
            "150/150 [==============================] - 10s 66ms/step - loss: 0.0757 - mean_squared_error: 0.1514 - val_loss: 0.0782 - val_mean_squared_error: 0.1564\n",
            "Epoch 93/100\n",
            "150/150 [==============================] - 10s 66ms/step - loss: 0.0756 - mean_squared_error: 0.1512 - val_loss: 0.0780 - val_mean_squared_error: 0.1559\n",
            "Epoch 94/100\n",
            "150/150 [==============================] - 10s 66ms/step - loss: 0.0758 - mean_squared_error: 0.1515 - val_loss: 0.0778 - val_mean_squared_error: 0.1557\n",
            "Epoch 95/100\n",
            "150/150 [==============================] - 10s 66ms/step - loss: 0.0755 - mean_squared_error: 0.1510 - val_loss: 0.0777 - val_mean_squared_error: 0.1554\n",
            "Epoch 96/100\n",
            "150/150 [==============================] - 10s 66ms/step - loss: 0.0756 - mean_squared_error: 0.1512 - val_loss: 0.0776 - val_mean_squared_error: 0.1551\n",
            "Epoch 97/100\n",
            "150/150 [==============================] - 10s 66ms/step - loss: 0.0752 - mean_squared_error: 0.1503 - val_loss: 0.0775 - val_mean_squared_error: 0.1550\n",
            "Epoch 98/100\n",
            "150/150 [==============================] - 10s 65ms/step - loss: 0.0757 - mean_squared_error: 0.1515 - val_loss: 0.0774 - val_mean_squared_error: 0.1548\n",
            "Epoch 99/100\n",
            "150/150 [==============================] - 10s 66ms/step - loss: 0.0757 - mean_squared_error: 0.1514 - val_loss: 0.0773 - val_mean_squared_error: 0.1547\n",
            "Epoch 100/100\n",
            "150/150 [==============================] - 10s 67ms/step - loss: 0.0754 - mean_squared_error: 0.1508 - val_loss: 0.0773 - val_mean_squared_error: 0.1546\n"
          ],
          "name": "stdout"
        }
      ]
    },
    {
      "cell_type": "code",
      "metadata": {
        "colab": {
          "base_uri": "https://localhost:8080/"
        },
        "id": "trB0eee0XysT",
        "outputId": "de53bb84-c03a-4ebd-8f02-3a862a9fb4fb"
      },
      "source": [
        "model.evaluate(x_test, y_test)"
      ],
      "execution_count": null,
      "outputs": [
        {
          "output_type": "stream",
          "text": [
            "69/69 [==============================] - 1s 5ms/step - loss: 0.0781 - mean_squared_error: 0.1562\n"
          ],
          "name": "stdout"
        },
        {
          "output_type": "execute_result",
          "data": {
            "text/plain": [
              "[0.0780753344297409, 0.1561506688594818]"
            ]
          },
          "metadata": {
            "tags": []
          },
          "execution_count": 289
        }
      ]
    },
    {
      "cell_type": "code",
      "metadata": {
        "colab": {
          "base_uri": "https://localhost:8080/"
        },
        "id": "PDDm6Y-0rlxz",
        "outputId": "b30b6f20-783a-4baf-bd40-848dddd7601c"
      },
      "source": [
        "#Predicting the values for test set\n",
        "result= model.predict(x_test)\n",
        "result= scaler.inverse_transform(result)\n",
        "result= inv_boxcox1p(result, lam_value)\n",
        "y_test= stan.inverse_transform(y_test)\n",
        "y_test= inv_boxcox1p(y_test, lam_value)\n",
        "score= math.sqrt(mean_squared_error(y_valid, result))\n",
        "score"
      ],
      "execution_count": null,
      "outputs": [
        {
          "output_type": "execute_result",
          "data": {
            "text/plain": [
              "6.181927704609131"
            ]
          },
          "metadata": {
            "tags": []
          },
          "execution_count": 37
        }
      ]
    },
    {
      "cell_type": "code",
      "metadata": {
        "colab": {
          "base_uri": "https://localhost:8080/",
          "height": 410
        },
        "id": "M4LvoKE8qMQQ",
        "outputId": "fd647ab4-6ed9-4d99-e31f-c7038cfc6595"
      },
      "source": [
        "# summarize history for loss\n",
        "plt.plot(history.history['loss'])\n",
        "plt.plot(history.history['val_loss'])\n",
        "plt.ylabel('loss')\n",
        "plt.xlabel('epoch')\n",
        "plt.legend(['train', 'test'], loc='upper left')\n",
        "plt.show()"
      ],
      "execution_count": null,
      "outputs": [
        {
          "output_type": "display_data",
          "data": {
            "image/png": "[encoded data removed]",
            "text/plain": [
              "<Figure size 720x432 with 1 Axes>"
            ]
          },
          "metadata": {
            "tags": []
          }
        }
      ]
    },
    {
      "cell_type": "code",
      "metadata": {
        "id": "lU0wMLJTcb5g"
      },
      "source": [
        "#Defining average and naive forecast functions\n",
        "def naiveForecast(x_data):\n",
        "    # Expected Shape of x_data: (number of samples, number of readings per sample, 1)\n",
        "    # Shape of forecast: (number of samples, )\n",
        "    forecast = x_data[:,-1,0]\n",
        "    return forecast\n",
        "\n",
        "def avgForecast(x_data):\n",
        "    # Expected Shape of x_data: (number of samples, number of readings per sample, 1)\n",
        "    # Shape of forecast: (number of samples, )\n",
        "    forecast = np.mean(x_data[:,:,0], axis=1)\n",
        "    return forecast\n",
        "\n",
        "naive_forecast = naiveForecast(x_test)\n",
        "avg_forecast = avgForecast(x_test)"
      ],
      "execution_count": null,
      "outputs": []
    },
    {
      "cell_type": "code",
      "metadata": {
        "id": "MACGHheUcusC"
      },
      "source": [
        "avg_forecast= scaler.inverse_transform(avg_forecast.reshape(-1,1))[:,0]\n",
        "avg_forecast = inv_boxcox1p(avg_forecast, lam_value)\n",
        "naive_forecast= scaler.inverse_transform(naive_forecast.reshape(-1,1))[:,0]\n",
        "naive_forecast = inv_boxcox1p(naive_forecast, lam_value)"
      ],
      "execution_count": null,
      "outputs": []
    },
    {
      "cell_type": "code",
      "metadata": {
        "id": "qZVyUFVFc42q"
      },
      "source": [
        "rmse_avg= math.sqrt(mean_squared_error(y_test, futureAvgForecast))\n",
        "rmse_naive= math.sqrt(mean_squared_error(y_test, naive_forecast))"
      ],
      "execution_count": null,
      "outputs": []
    },
    {
      "cell_type": "code",
      "metadata": {
        "colab": {
          "base_uri": "https://localhost:8080/"
        },
        "id": "Ly_r42NydUhp",
        "outputId": "51fc0e44-2a94-4a47-e5bf-10a3d1f48421"
      },
      "source": [
        "rmse_avg"
      ],
      "execution_count": null,
      "outputs": [
        {
          "output_type": "execute_result",
          "data": {
            "text/plain": [
              "6.192282157406738"
            ]
          },
          "metadata": {
            "tags": []
          },
          "execution_count": 115
        }
      ]
    },
    {
      "cell_type": "code",
      "metadata": {
        "colab": {
          "base_uri": "https://localhost:8080/"
        },
        "id": "YGXBUSNyNJ0u",
        "outputId": "89c2619c-75db-47e3-e21b-c9e813272bcb"
      },
      "source": [
        "rmse_naive"
      ],
      "execution_count": null,
      "outputs": [
        {
          "output_type": "execute_result",
          "data": {
            "text/plain": [
              "7.96751120227184"
            ]
          },
          "metadata": {
            "tags": []
          },
          "execution_count": 74
        }
      ]
    }
  ]
}